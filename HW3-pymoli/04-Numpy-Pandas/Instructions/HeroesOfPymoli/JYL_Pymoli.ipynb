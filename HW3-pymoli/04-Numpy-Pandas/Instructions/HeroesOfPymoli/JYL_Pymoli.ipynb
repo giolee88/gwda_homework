{
 "cells": [
  {
   "cell_type": "code",
   "execution_count": 1,
   "metadata": {},
   "outputs": [],
   "source": [
    "import json\n",
    "import requests as req\n",
    "import pandas as pd\n",
    "import numpy as np"
   ]
  },
  {
   "cell_type": "code",
   "execution_count": 2,
   "metadata": {},
   "outputs": [],
   "source": [
    "# bring in the json file.\n",
    "purch_data = json.load(open('purchase_data.json'))\n",
    "# print(purch_data)"
   ]
  },
  {
   "cell_type": "code",
   "execution_count": 3,
   "metadata": {
    "scrolled": false
   },
   "outputs": [
    {
     "data": {
      "text/html": [
       "<div>\n",
       "<style scoped>\n",
       "    .dataframe tbody tr th:only-of-type {\n",
       "        vertical-align: middle;\n",
       "    }\n",
       "\n",
       "    .dataframe tbody tr th {\n",
       "        vertical-align: top;\n",
       "    }\n",
       "\n",
       "    .dataframe thead th {\n",
       "        text-align: right;\n",
       "    }\n",
       "</style>\n",
       "<table border=\"1\" class=\"dataframe\">\n",
       "  <thead>\n",
       "    <tr style=\"text-align: right;\">\n",
       "      <th></th>\n",
       "      <th>Age</th>\n",
       "      <th>Gender</th>\n",
       "      <th>Item ID</th>\n",
       "      <th>Item Name</th>\n",
       "      <th>Price</th>\n",
       "      <th>SN</th>\n",
       "    </tr>\n",
       "  </thead>\n",
       "  <tbody>\n",
       "    <tr>\n",
       "      <th>0</th>\n",
       "      <td>38</td>\n",
       "      <td>Male</td>\n",
       "      <td>165</td>\n",
       "      <td>Bone Crushing Silver Skewer</td>\n",
       "      <td>3.37</td>\n",
       "      <td>Aelalis34</td>\n",
       "    </tr>\n",
       "    <tr>\n",
       "      <th>1</th>\n",
       "      <td>21</td>\n",
       "      <td>Male</td>\n",
       "      <td>119</td>\n",
       "      <td>Stormbringer, Dark Blade of Ending Misery</td>\n",
       "      <td>2.32</td>\n",
       "      <td>Eolo46</td>\n",
       "    </tr>\n",
       "    <tr>\n",
       "      <th>2</th>\n",
       "      <td>34</td>\n",
       "      <td>Male</td>\n",
       "      <td>174</td>\n",
       "      <td>Primitive Blade</td>\n",
       "      <td>2.46</td>\n",
       "      <td>Assastnya25</td>\n",
       "    </tr>\n",
       "    <tr>\n",
       "      <th>3</th>\n",
       "      <td>21</td>\n",
       "      <td>Male</td>\n",
       "      <td>92</td>\n",
       "      <td>Final Critic</td>\n",
       "      <td>1.36</td>\n",
       "      <td>Pheusrical25</td>\n",
       "    </tr>\n",
       "    <tr>\n",
       "      <th>4</th>\n",
       "      <td>23</td>\n",
       "      <td>Male</td>\n",
       "      <td>63</td>\n",
       "      <td>Stormfury Mace</td>\n",
       "      <td>1.27</td>\n",
       "      <td>Aela59</td>\n",
       "    </tr>\n",
       "  </tbody>\n",
       "</table>\n",
       "</div>"
      ],
      "text/plain": [
       "   Age Gender  Item ID                                  Item Name  Price  \\\n",
       "0   38   Male      165                Bone Crushing Silver Skewer   3.37   \n",
       "1   21   Male      119  Stormbringer, Dark Blade of Ending Misery   2.32   \n",
       "2   34   Male      174                            Primitive Blade   2.46   \n",
       "3   21   Male       92                               Final Critic   1.36   \n",
       "4   23   Male       63                             Stormfury Mace   1.27   \n",
       "\n",
       "             SN  \n",
       "0     Aelalis34  \n",
       "1        Eolo46  \n",
       "2   Assastnya25  \n",
       "3  Pheusrical25  \n",
       "4        Aela59  "
      ]
     },
     "execution_count": 3,
     "metadata": {},
     "output_type": "execute_result"
    }
   ],
   "source": [
    "# print(json.dumps(purchase_data, indent=4, sort_keys=True))\n",
    "# Age, Gender, Item ID, Item Name, Price, and SN are the columns I am interested in. I want to put them into a dataframe\\\n",
    "# pandas.read_json(path_or_buf=None, orient=None, typ='frame', dtype=True, convert_axes=True, convert_dates=True, keep_default_dates=True, numpy=False, precise_float=False, date_unit=None, encoding=None, lines=False, chunksize=None, compression='infer')\n",
    "purch_data1_df=pd.read_json('purchase_data.json')\n",
    "purch_data1_df.head()"
   ]
  },
  {
   "cell_type": "code",
   "execution_count": 4,
   "metadata": {},
   "outputs": [
    {
     "data": {
      "text/html": [
       "<div>\n",
       "<style scoped>\n",
       "    .dataframe tbody tr th:only-of-type {\n",
       "        vertical-align: middle;\n",
       "    }\n",
       "\n",
       "    .dataframe tbody tr th {\n",
       "        vertical-align: top;\n",
       "    }\n",
       "\n",
       "    .dataframe thead th {\n",
       "        text-align: right;\n",
       "    }\n",
       "</style>\n",
       "<table border=\"1\" class=\"dataframe\">\n",
       "  <thead>\n",
       "    <tr style=\"text-align: right;\">\n",
       "      <th></th>\n",
       "      <th>Age</th>\n",
       "      <th>Gender</th>\n",
       "      <th>Item ID</th>\n",
       "      <th>Item Name</th>\n",
       "      <th>Price</th>\n",
       "      <th>SN</th>\n",
       "    </tr>\n",
       "  </thead>\n",
       "  <tbody>\n",
       "    <tr>\n",
       "      <th>0</th>\n",
       "      <td>20</td>\n",
       "      <td>Male</td>\n",
       "      <td>93</td>\n",
       "      <td>Apocalyptic Battlescythe</td>\n",
       "      <td>4.49</td>\n",
       "      <td>Iloni35</td>\n",
       "    </tr>\n",
       "    <tr>\n",
       "      <th>1</th>\n",
       "      <td>21</td>\n",
       "      <td>Male</td>\n",
       "      <td>12</td>\n",
       "      <td>Dawne</td>\n",
       "      <td>3.36</td>\n",
       "      <td>Aidaira26</td>\n",
       "    </tr>\n",
       "    <tr>\n",
       "      <th>2</th>\n",
       "      <td>17</td>\n",
       "      <td>Male</td>\n",
       "      <td>5</td>\n",
       "      <td>Putrid Fan</td>\n",
       "      <td>2.63</td>\n",
       "      <td>Irim47</td>\n",
       "    </tr>\n",
       "    <tr>\n",
       "      <th>3</th>\n",
       "      <td>17</td>\n",
       "      <td>Male</td>\n",
       "      <td>123</td>\n",
       "      <td>Twilight's Carver</td>\n",
       "      <td>2.55</td>\n",
       "      <td>Irith83</td>\n",
       "    </tr>\n",
       "    <tr>\n",
       "      <th>4</th>\n",
       "      <td>22</td>\n",
       "      <td>Male</td>\n",
       "      <td>154</td>\n",
       "      <td>Feral Katana</td>\n",
       "      <td>4.11</td>\n",
       "      <td>Philodil43</td>\n",
       "    </tr>\n",
       "  </tbody>\n",
       "</table>\n",
       "</div>"
      ],
      "text/plain": [
       "   Age Gender  Item ID                 Item Name  Price          SN\n",
       "0   20   Male       93  Apocalyptic Battlescythe   4.49     Iloni35\n",
       "1   21   Male       12                     Dawne   3.36   Aidaira26\n",
       "2   17   Male        5                Putrid Fan   2.63      Irim47\n",
       "3   17   Male      123         Twilight's Carver   2.55     Irith83\n",
       "4   22   Male      154              Feral Katana   4.11  Philodil43"
      ]
     },
     "execution_count": 4,
     "metadata": {},
     "output_type": "execute_result"
    }
   ],
   "source": [
    "# sweet...now I have a dataframe w/ the content.  Maybe I should get the other set too.  \n",
    "purch_data2_df=pd.read_json('purchase_data2.json')\n",
    "purch_data2_df.head()"
   ]
  },
  {
   "cell_type": "code",
   "execution_count": 8,
   "metadata": {},
   "outputs": [
    {
     "data": {
      "text/html": [
       "<div>\n",
       "<style scoped>\n",
       "    .dataframe tbody tr th:only-of-type {\n",
       "        vertical-align: middle;\n",
       "    }\n",
       "\n",
       "    .dataframe tbody tr th {\n",
       "        vertical-align: top;\n",
       "    }\n",
       "\n",
       "    .dataframe thead th {\n",
       "        text-align: right;\n",
       "    }\n",
       "</style>\n",
       "<table border=\"1\" class=\"dataframe\">\n",
       "  <thead>\n",
       "    <tr style=\"text-align: right;\">\n",
       "      <th></th>\n",
       "      <th>Age</th>\n",
       "      <th>Gender</th>\n",
       "      <th>Item ID</th>\n",
       "      <th>Item Name</th>\n",
       "      <th>Price</th>\n",
       "      <th>SN</th>\n",
       "    </tr>\n",
       "  </thead>\n",
       "  <tbody>\n",
       "    <tr>\n",
       "      <th>144</th>\n",
       "      <td>20</td>\n",
       "      <td>Male</td>\n",
       "      <td>44</td>\n",
       "      <td>Bonecarvin Battle Axe</td>\n",
       "      <td>2.46</td>\n",
       "      <td>Adairialis76</td>\n",
       "    </tr>\n",
       "    <tr>\n",
       "      <th>308</th>\n",
       "      <td>37</td>\n",
       "      <td>Male</td>\n",
       "      <td>79</td>\n",
       "      <td>Alpha, Oath of Zeal</td>\n",
       "      <td>2.88</td>\n",
       "      <td>Aduephos78</td>\n",
       "    </tr>\n",
       "    <tr>\n",
       "      <th>377</th>\n",
       "      <td>37</td>\n",
       "      <td>Male</td>\n",
       "      <td>174</td>\n",
       "      <td>Primitive Blade</td>\n",
       "      <td>2.46</td>\n",
       "      <td>Aduephos78</td>\n",
       "    </tr>\n",
       "    <tr>\n",
       "      <th>431</th>\n",
       "      <td>37</td>\n",
       "      <td>Male</td>\n",
       "      <td>92</td>\n",
       "      <td>Final Critic</td>\n",
       "      <td>1.36</td>\n",
       "      <td>Aduephos78</td>\n",
       "    </tr>\n",
       "    <tr>\n",
       "      <th>224</th>\n",
       "      <td>26</td>\n",
       "      <td>Male</td>\n",
       "      <td>106</td>\n",
       "      <td>Crying Steel Sickle</td>\n",
       "      <td>2.29</td>\n",
       "      <td>Aeduera68</td>\n",
       "    </tr>\n",
       "    <tr>\n",
       "      <th>647</th>\n",
       "      <td>26</td>\n",
       "      <td>Male</td>\n",
       "      <td>156</td>\n",
       "      <td>Soul-Forged Steel Shortsword</td>\n",
       "      <td>1.16</td>\n",
       "      <td>Aeduera68</td>\n",
       "    </tr>\n",
       "    <tr>\n",
       "      <th>721</th>\n",
       "      <td>26</td>\n",
       "      <td>Male</td>\n",
       "      <td>39</td>\n",
       "      <td>Betrayal, Whisper of Grieving Widows</td>\n",
       "      <td>2.35</td>\n",
       "      <td>Aeduera68</td>\n",
       "    </tr>\n",
       "    <tr>\n",
       "      <th>394</th>\n",
       "      <td>25</td>\n",
       "      <td>Male</td>\n",
       "      <td>44</td>\n",
       "      <td>Bonecarvin Battle Axe</td>\n",
       "      <td>2.46</td>\n",
       "      <td>Aela49</td>\n",
       "    </tr>\n",
       "    <tr>\n",
       "      <th>4</th>\n",
       "      <td>23</td>\n",
       "      <td>Male</td>\n",
       "      <td>63</td>\n",
       "      <td>Stormfury Mace</td>\n",
       "      <td>1.27</td>\n",
       "      <td>Aela59</td>\n",
       "    </tr>\n",
       "    <tr>\n",
       "      <th>0</th>\n",
       "      <td>38</td>\n",
       "      <td>Male</td>\n",
       "      <td>165</td>\n",
       "      <td>Bone Crushing Silver Skewer</td>\n",
       "      <td>3.37</td>\n",
       "      <td>Aelalis34</td>\n",
       "    </tr>\n",
       "  </tbody>\n",
       "</table>\n",
       "</div>"
      ],
      "text/plain": [
       "     Age Gender  Item ID                             Item Name  Price  \\\n",
       "144   20   Male       44                 Bonecarvin Battle Axe   2.46   \n",
       "308   37   Male       79                   Alpha, Oath of Zeal   2.88   \n",
       "377   37   Male      174                       Primitive Blade   2.46   \n",
       "431   37   Male       92                          Final Critic   1.36   \n",
       "224   26   Male      106                   Crying Steel Sickle   2.29   \n",
       "647   26   Male      156          Soul-Forged Steel Shortsword   1.16   \n",
       "721   26   Male       39  Betrayal, Whisper of Grieving Widows   2.35   \n",
       "394   25   Male       44                 Bonecarvin Battle Axe   2.46   \n",
       "4     23   Male       63                        Stormfury Mace   1.27   \n",
       "0     38   Male      165           Bone Crushing Silver Skewer   3.37   \n",
       "\n",
       "               SN  \n",
       "144  Adairialis76  \n",
       "308    Aduephos78  \n",
       "377    Aduephos78  \n",
       "431    Aduephos78  \n",
       "224     Aeduera68  \n",
       "647     Aeduera68  \n",
       "721     Aeduera68  \n",
       "394        Aela49  \n",
       "4          Aela59  \n",
       "0       Aelalis34  "
      ]
     },
     "execution_count": 8,
     "metadata": {},
     "output_type": "execute_result"
    }
   ],
   "source": [
    "#  Union!  \n",
    "# frames = [df1, df2, df3]\n",
    "list_of_dfs=[purch_data1_df, purch_data2_df]\n",
    "purch_data_df =  pd.concat(list_of_dfs)\n",
    "# purch_data_df\n",
    "purch_data_df.count()\n",
    "# Data does not appear to have NaNs. There are 858 purchase records.  \n",
    "#$ SN appears to have player IDs.  \n",
    "# Sort it by SN to check if there are dupes.  \n",
    "pdata_sort_sn_df = purch_data_df.sort_values(\"SN\", ascending = True)\n",
    "pdata_sort_sn_df.head(10)\n",
    "# yup, plenty of repeat purchases.  We need distinct SN values.  "
   ]
  },
  {
   "cell_type": "code",
   "execution_count": 10,
   "metadata": {},
   "outputs": [
    {
     "name": "stdout",
     "output_type": "stream",
     "text": [
      "**Player Count** \n",
      " Total Number of Players: 612\n"
     ]
    }
   ],
   "source": [
    "# **Player Count**\n",
    "# * Total Number of Players -- I'll get this from SN.\n",
    "# googling tells me I should look into the drop_duplicates() function and subset keyword \n",
    "pdata_unique_by_SN = purch_data_df.drop_duplicates(\"SN\", keep = 'first')\n",
    "# player_count = pdata_unique_by_SN[\"SN\"].value_count()\n",
    "pdata_unique_by_SN.dtypes\n",
    "# I don't know why value_count() won't give me the count.  \n",
    "player_count = pdata_unique_by_SN[\"SN\"].count()\n",
    "player_count  # looks good.  First answer is done. \n",
    "print  (\"**Player Count**\", \"\\n\", \"Total Number of Players: \" + str(player_count))\n",
    "\n",
    "# * Number of Unique Items is next.  I can probably work with Item ID or Item Name\n",
    "# Study both to see if one is better than the other.  \n"
   ]
  },
  {
   "cell_type": "code",
   "execution_count": 12,
   "metadata": {},
   "outputs": [
    {
     "data": {
      "text/html": [
       "<div>\n",
       "<style scoped>\n",
       "    .dataframe tbody tr th:only-of-type {\n",
       "        vertical-align: middle;\n",
       "    }\n",
       "\n",
       "    .dataframe tbody tr th {\n",
       "        vertical-align: top;\n",
       "    }\n",
       "\n",
       "    .dataframe thead th {\n",
       "        text-align: right;\n",
       "    }\n",
       "</style>\n",
       "<table border=\"1\" class=\"dataframe\">\n",
       "  <thead>\n",
       "    <tr style=\"text-align: right;\">\n",
       "      <th></th>\n",
       "      <th>Age</th>\n",
       "      <th>Gender</th>\n",
       "      <th>Item ID</th>\n",
       "      <th>Item Name</th>\n",
       "      <th>Price</th>\n",
       "      <th>SN</th>\n",
       "    </tr>\n",
       "  </thead>\n",
       "  <tbody>\n",
       "    <tr>\n",
       "      <th>173</th>\n",
       "      <td>30</td>\n",
       "      <td>Male</td>\n",
       "      <td>0</td>\n",
       "      <td>Splinter</td>\n",
       "      <td>1.82</td>\n",
       "      <td>Chadadarya31</td>\n",
       "    </tr>\n",
       "    <tr>\n",
       "      <th>33</th>\n",
       "      <td>16</td>\n",
       "      <td>Female</td>\n",
       "      <td>0</td>\n",
       "      <td>Splinter</td>\n",
       "      <td>1.89</td>\n",
       "      <td>Pharithdil38</td>\n",
       "    </tr>\n",
       "    <tr>\n",
       "      <th>252</th>\n",
       "      <td>22</td>\n",
       "      <td>Male</td>\n",
       "      <td>1</td>\n",
       "      <td>Crucifer</td>\n",
       "      <td>2.28</td>\n",
       "      <td>Ilaesudil92</td>\n",
       "    </tr>\n",
       "    <tr>\n",
       "      <th>499</th>\n",
       "      <td>22</td>\n",
       "      <td>Male</td>\n",
       "      <td>1</td>\n",
       "      <td>Crucifer</td>\n",
       "      <td>2.28</td>\n",
       "      <td>Assylla81</td>\n",
       "    </tr>\n",
       "    <tr>\n",
       "      <th>254</th>\n",
       "      <td>21</td>\n",
       "      <td>Male</td>\n",
       "      <td>1</td>\n",
       "      <td>Crucifer</td>\n",
       "      <td>2.28</td>\n",
       "      <td>Undirrasta89</td>\n",
       "    </tr>\n",
       "    <tr>\n",
       "      <th>181</th>\n",
       "      <td>24</td>\n",
       "      <td>Male</td>\n",
       "      <td>1</td>\n",
       "      <td>Crucifer</td>\n",
       "      <td>2.28</td>\n",
       "      <td>Hiasri33</td>\n",
       "    </tr>\n",
       "    <tr>\n",
       "      <th>51</th>\n",
       "      <td>28</td>\n",
       "      <td>Male</td>\n",
       "      <td>1</td>\n",
       "      <td>Crucifer</td>\n",
       "      <td>3.67</td>\n",
       "      <td>Palyon91</td>\n",
       "    </tr>\n",
       "    <tr>\n",
       "      <th>59</th>\n",
       "      <td>15</td>\n",
       "      <td>Male</td>\n",
       "      <td>2</td>\n",
       "      <td>Verdict</td>\n",
       "      <td>3.40</td>\n",
       "      <td>Ila44</td>\n",
       "    </tr>\n",
       "    <tr>\n",
       "      <th>59</th>\n",
       "      <td>39</td>\n",
       "      <td>Female</td>\n",
       "      <td>2</td>\n",
       "      <td>Verdict</td>\n",
       "      <td>2.65</td>\n",
       "      <td>Aesririam61</td>\n",
       "    </tr>\n",
       "    <tr>\n",
       "      <th>21</th>\n",
       "      <td>15</td>\n",
       "      <td>Male</td>\n",
       "      <td>3</td>\n",
       "      <td>Phantomlight</td>\n",
       "      <td>1.79</td>\n",
       "      <td>Iaralrgue74</td>\n",
       "    </tr>\n",
       "  </tbody>\n",
       "</table>\n",
       "</div>"
      ],
      "text/plain": [
       "     Age  Gender  Item ID     Item Name  Price            SN\n",
       "173   30    Male        0      Splinter   1.82  Chadadarya31\n",
       "33    16  Female        0      Splinter   1.89  Pharithdil38\n",
       "252   22    Male        1      Crucifer   2.28   Ilaesudil92\n",
       "499   22    Male        1      Crucifer   2.28     Assylla81\n",
       "254   21    Male        1      Crucifer   2.28  Undirrasta89\n",
       "181   24    Male        1      Crucifer   2.28      Hiasri33\n",
       "51    28    Male        1      Crucifer   3.67      Palyon91\n",
       "59    15    Male        2       Verdict   3.40         Ila44\n",
       "59    39  Female        2       Verdict   2.65   Aesririam61\n",
       "21    15    Male        3  Phantomlight   1.79   Iaralrgue74"
      ]
     },
     "execution_count": 12,
     "metadata": {},
     "output_type": "execute_result"
    }
   ],
   "source": [
    "# * Number of Unique Items is next.  I can probably work with Item ID or Item Name\n",
    "# Study both to see if one is better than the other.  \n",
    "# pdata_sort_item_df = purchase_data_df.sort_values(\"Item Name\", ascending = True)\n",
    "# pdata_sort_item_df.head(100)\n",
    "pdata_sort_itemid_df = purch_data_df.sort_values(\"Item ID\", ascending = True)\n",
    "pdata_sort_itemid_df.head(10) \n",
    "# both seem ok.  I'll pick ID.  \n",
    "\n"
   ]
  },
  {
   "cell_type": "code",
   "execution_count": 15,
   "metadata": {},
   "outputs": [
    {
     "name": "stdout",
     "output_type": "stream",
     "text": [
      "** Number of Unique Items ** \n",
      " Total Number of items: 184\n"
     ]
    }
   ],
   "source": [
    "pdata_unique_by_item = purch_data_df.drop_duplicates(\"Item ID\", keep = 'first')\n",
    "item_cnt = pdata_unique_by_item[\"Item ID\"].count()\n",
    "item_cnt  # looks good.  First answer is done. \n",
    "print  (\"** Number of Unique Items **\", \"\\n\", \"Total Number of items: \" + str(item_cnt))\n"
   ]
  },
  {
   "cell_type": "code",
   "execution_count": 16,
   "metadata": {},
   "outputs": [
    {
     "name": "stdout",
     "output_type": "stream",
     "text": [
      "** Average Purchase Price **  \n",
      " Average Price:  $2.87\n"
     ]
    }
   ],
   "source": [
    "# * Average Purchase Price is next.  \n",
    "avg_price = purch_data_df [\"Price\"].median()\n",
    "avg_price\n",
    "print (\"** Average Purchase Price ** \", \"\\n\", \"Average Price:  $\" + str(avg_price))"
   ]
  },
  {
   "cell_type": "code",
   "execution_count": 17,
   "metadata": {},
   "outputs": [
    {
     "name": "stdout",
     "output_type": "stream",
     "text": [
      "** Total Number of Purchases \n",
      " Number of Purchases: 858\n"
     ]
    }
   ],
   "source": [
    "cnt_of_purch = purch_data_df[\"SN\"].count()\n",
    "cnt_of_purch\n",
    "print (\"** Total Number of Purchases\", \"\\n\", \"Number of Purchases: \" + str(cnt_of_purch))"
   ]
  },
  {
   "cell_type": "code",
   "execution_count": 18,
   "metadata": {},
   "outputs": [
    {
     "name": "stdout",
     "output_type": "stream",
     "text": [
      "\n",
      "** Total Revenue ** \n",
      " Total Revenue: $2,514.43\n"
     ]
    }
   ],
   "source": [
    "# * Total Revenue\n",
    "revenue = purch_data_df[\"Price\"].sum()\n",
    "type(revenue)\n",
    "'${:,.2f}'.format(revenue)\n",
    "print ()\n",
    "print (\"** Total Revenue **\", \"\\n\", \"Total Revenue: \" + str ('${:,.2f}'.format(revenue)))"
   ]
  },
  {
   "cell_type": "code",
   "execution_count": 20,
   "metadata": {
    "scrolled": true
   },
   "outputs": [
    {
     "name": "stdout",
     "output_type": "stream",
     "text": [
      "**Purchasing Analysis (Total)**\n",
      "Total Number of items: 184\n",
      "Average Price:  $2.87\n",
      "Number of Purchases: 858\n",
      "Total Revenue: $2,514.43\n"
     ]
    }
   ],
   "source": [
    "# Purchase Analysis summary can now be compiled.  \n",
    "print (\"**Purchasing Analysis (Total)**\")\n",
    "print (\"Total Number of items: \" + str(item_cnt))\n",
    "print (\"Average Price:  $\" + str(avg_price))\n",
    "print (\"Number of Purchases: \" + str(cnt_of_purch))\n",
    "print (\"Total Revenue: \" + str ('${:,.2f}'.format(revenue)))"
   ]
  },
  {
   "cell_type": "code",
   "execution_count": 21,
   "metadata": {},
   "outputs": [
    {
     "data": {
      "text/html": [
       "<div>\n",
       "<style scoped>\n",
       "    .dataframe tbody tr th:only-of-type {\n",
       "        vertical-align: middle;\n",
       "    }\n",
       "\n",
       "    .dataframe tbody tr th {\n",
       "        vertical-align: top;\n",
       "    }\n",
       "\n",
       "    .dataframe thead th {\n",
       "        text-align: right;\n",
       "    }\n",
       "</style>\n",
       "<table border=\"1\" class=\"dataframe\">\n",
       "  <thead>\n",
       "    <tr style=\"text-align: right;\">\n",
       "      <th></th>\n",
       "      <th>SN</th>\n",
       "      <th>Gender</th>\n",
       "      <th>Age</th>\n",
       "    </tr>\n",
       "  </thead>\n",
       "  <tbody>\n",
       "    <tr>\n",
       "      <th>0</th>\n",
       "      <td>Aelalis34</td>\n",
       "      <td>Male</td>\n",
       "      <td>38</td>\n",
       "    </tr>\n",
       "    <tr>\n",
       "      <th>1</th>\n",
       "      <td>Eolo46</td>\n",
       "      <td>Male</td>\n",
       "      <td>21</td>\n",
       "    </tr>\n",
       "    <tr>\n",
       "      <th>2</th>\n",
       "      <td>Assastnya25</td>\n",
       "      <td>Male</td>\n",
       "      <td>34</td>\n",
       "    </tr>\n",
       "    <tr>\n",
       "      <th>3</th>\n",
       "      <td>Pheusrical25</td>\n",
       "      <td>Male</td>\n",
       "      <td>21</td>\n",
       "    </tr>\n",
       "    <tr>\n",
       "      <th>4</th>\n",
       "      <td>Aela59</td>\n",
       "      <td>Male</td>\n",
       "      <td>23</td>\n",
       "    </tr>\n",
       "  </tbody>\n",
       "</table>\n",
       "</div>"
      ],
      "text/plain": [
       "             SN Gender  Age\n",
       "0     Aelalis34   Male   38\n",
       "1        Eolo46   Male   21\n",
       "2   Assastnya25   Male   34\n",
       "3  Pheusrical25   Male   21\n",
       "4        Aela59   Male   23"
      ]
     },
     "execution_count": 21,
     "metadata": {},
     "output_type": "execute_result"
    }
   ],
   "source": [
    "# **Gender Demographics**\n",
    "# * Percentage and Count of Male Players\n",
    "# * Percentage and Count of Female Players\n",
    "# * Percentage and Count of Other / Non-Disclosed\n",
    "# Use the pdata_unique_by_SN table. \n",
    "pdata_unique_by_SN.head()\n",
    "# Dropping the item data from this table will give me a clean data table of users.  \n",
    "# Create a cust_data df using Gender, SN, and maybe Age. \n",
    "# df.loc[:,['B', 'A']] = df[['A', 'B']]\n",
    "player_dat= pdata_unique_by_SN.loc[:,[\"SN\", \"Gender\", \"Age\"]]\n",
    "player_dat.head()"
   ]
  },
  {
   "cell_type": "code",
   "execution_count": 29,
   "metadata": {},
   "outputs": [
    {
     "data": {
      "text/plain": [
       "array(['Male', 'Female', 'Other / Non-Disclosed'], dtype=object)"
      ]
     },
     "execution_count": 29,
     "metadata": {},
     "output_type": "execute_result"
    }
   ],
   "source": [
    "#filter by \"Gender\" = \"Male\"\n",
    "# usa_ufo_df = clean_ufo_df.loc[clean_ufo_df[\"country\"] == \"us\",:]\n",
    "# player_dat = player_dat.loc[player_dat[\"Gender\"] == \"Male\",:]\n",
    "# player_dat.count()  # 495 Males\n",
    "\n",
    "# player_dat = player_dat.loc[player_dat[\"Gender\"] == \"Female\",:]\n",
    "# player_dat.count()  # 108 Females\n",
    "# 612 distinct users.  603 are sexed.  \n",
    "# what I really need is to count grouped by Gender I think.  What the hell are the others?\n",
    "\n",
    "gender_vals = player_dat[\"Gender\"].unique()\n",
    "gender_vals\n",
    "# Returned:  array(['Male', 'Female', 'Other / Non-Disclosed'], dtype=object)\n",
    "# Ahhh....'Other / Non-Disclosed'\n",
    "# cool...this dataset is not as messed up as I feared.  \n"
   ]
  },
  {
   "cell_type": "code",
   "execution_count": 32,
   "metadata": {},
   "outputs": [
    {
     "data": {
      "text/plain": [
       "Male                     495\n",
       "Female                   108\n",
       "Other / Non-Disclosed      9\n",
       "Name: Gender, dtype: int64"
      ]
     },
     "execution_count": 32,
     "metadata": {},
     "output_type": "execute_result"
    }
   ],
   "source": [
    "# grouping by gender.  \n",
    "gender_tots = player_dat[\"Gender\"].value_counts()\n",
    "gender_tots.dtype # int64\n",
    "# it gives it to me int64, grouped.  I can throw it into a dataframe.  \n",
    "gender_tots\n",
    "# Yes! cool.  totals broken down by gender.  \n",
    "# how best to bring percents into these.  calculating percents should divide by player_count "
   ]
  },
  {
   "cell_type": "code",
   "execution_count": 33,
   "metadata": {},
   "outputs": [
    {
     "ename": "KeyError",
     "evalue": "'Gender'",
     "output_type": "error",
     "traceback": [
      "\u001b[1;31m---------------------------------------------------------------------------\u001b[0m",
      "\u001b[1;31mTypeError\u001b[0m                                 Traceback (most recent call last)",
      "\u001b[1;32m~\\AppData\\Local\\Continuum\\anaconda3\\envs\\PythonData\\lib\\site-packages\\pandas\\core\\indexes\\base.py\u001b[0m in \u001b[0;36mget_value\u001b[1;34m(self, series, key)\u001b[0m\n\u001b[0;32m   2562\u001b[0m             \u001b[1;32mtry\u001b[0m\u001b[1;33m:\u001b[0m\u001b[1;33m\u001b[0m\u001b[0m\n\u001b[1;32m-> 2563\u001b[1;33m                 \u001b[1;32mreturn\u001b[0m \u001b[0mlibts\u001b[0m\u001b[1;33m.\u001b[0m\u001b[0mget_value_box\u001b[0m\u001b[1;33m(\u001b[0m\u001b[0ms\u001b[0m\u001b[1;33m,\u001b[0m \u001b[0mkey\u001b[0m\u001b[1;33m)\u001b[0m\u001b[1;33m\u001b[0m\u001b[0m\n\u001b[0m\u001b[0;32m   2564\u001b[0m             \u001b[1;32mexcept\u001b[0m \u001b[0mIndexError\u001b[0m\u001b[1;33m:\u001b[0m\u001b[1;33m\u001b[0m\u001b[0m\n",
      "\u001b[1;32mpandas/_libs/tslib.pyx\u001b[0m in \u001b[0;36mpandas._libs.tslib.get_value_box\u001b[1;34m()\u001b[0m\n",
      "\u001b[1;32mpandas/_libs/tslib.pyx\u001b[0m in \u001b[0;36mpandas._libs.tslib.get_value_box\u001b[1;34m()\u001b[0m\n",
      "\u001b[1;31mTypeError\u001b[0m: 'str' object cannot be interpreted as an integer",
      "\nDuring handling of the above exception, another exception occurred:\n",
      "\u001b[1;31mKeyError\u001b[0m                                  Traceback (most recent call last)",
      "\u001b[1;32m<ipython-input-33-b0c85532f69e>\u001b[0m in \u001b[0;36m<module>\u001b[1;34m()\u001b[0m\n\u001b[1;32m----> 1\u001b[1;33m \u001b[0mgender_percents\u001b[0m \u001b[1;33m=\u001b[0m \u001b[0mgender_tots\u001b[0m\u001b[1;33m[\u001b[0m\u001b[1;34m\"Gender\"\u001b[0m\u001b[1;33m]\u001b[0m \u001b[1;33m/\u001b[0m \u001b[0mplayer_count\u001b[0m \u001b[1;33m*\u001b[0m \u001b[1;36m100\u001b[0m\u001b[1;33m\u001b[0m\u001b[0m\n\u001b[0m\u001b[0;32m      2\u001b[0m \u001b[0mgender_percents\u001b[0m\u001b[1;33m\u001b[0m\u001b[0m\n\u001b[0;32m      3\u001b[0m \u001b[1;33m\u001b[0m\u001b[0m\n\u001b[0;32m      4\u001b[0m \u001b[1;31m# gender_percents = '{0:.0f}%'.format(gender_tots_df[\"Gender\"] / player_count * 100)\u001b[0m\u001b[1;33m\u001b[0m\u001b[1;33m\u001b[0m\u001b[0m\n\u001b[0;32m      5\u001b[0m \u001b[1;31m#\u001b[0m\u001b[1;33m\u001b[0m\u001b[1;33m\u001b[0m\u001b[0m\n",
      "\u001b[1;32m~\\AppData\\Local\\Continuum\\anaconda3\\envs\\PythonData\\lib\\site-packages\\pandas\\core\\series.py\u001b[0m in \u001b[0;36m__getitem__\u001b[1;34m(self, key)\u001b[0m\n\u001b[0;32m    621\u001b[0m         \u001b[0mkey\u001b[0m \u001b[1;33m=\u001b[0m \u001b[0mcom\u001b[0m\u001b[1;33m.\u001b[0m\u001b[0m_apply_if_callable\u001b[0m\u001b[1;33m(\u001b[0m\u001b[0mkey\u001b[0m\u001b[1;33m,\u001b[0m \u001b[0mself\u001b[0m\u001b[1;33m)\u001b[0m\u001b[1;33m\u001b[0m\u001b[0m\n\u001b[0;32m    622\u001b[0m         \u001b[1;32mtry\u001b[0m\u001b[1;33m:\u001b[0m\u001b[1;33m\u001b[0m\u001b[0m\n\u001b[1;32m--> 623\u001b[1;33m             \u001b[0mresult\u001b[0m \u001b[1;33m=\u001b[0m \u001b[0mself\u001b[0m\u001b[1;33m.\u001b[0m\u001b[0mindex\u001b[0m\u001b[1;33m.\u001b[0m\u001b[0mget_value\u001b[0m\u001b[1;33m(\u001b[0m\u001b[0mself\u001b[0m\u001b[1;33m,\u001b[0m \u001b[0mkey\u001b[0m\u001b[1;33m)\u001b[0m\u001b[1;33m\u001b[0m\u001b[0m\n\u001b[0m\u001b[0;32m    624\u001b[0m \u001b[1;33m\u001b[0m\u001b[0m\n\u001b[0;32m    625\u001b[0m             \u001b[1;32mif\u001b[0m \u001b[1;32mnot\u001b[0m \u001b[0mis_scalar\u001b[0m\u001b[1;33m(\u001b[0m\u001b[0mresult\u001b[0m\u001b[1;33m)\u001b[0m\u001b[1;33m:\u001b[0m\u001b[1;33m\u001b[0m\u001b[0m\n",
      "\u001b[1;32m~\\AppData\\Local\\Continuum\\anaconda3\\envs\\PythonData\\lib\\site-packages\\pandas\\core\\indexes\\base.py\u001b[0m in \u001b[0;36mget_value\u001b[1;34m(self, series, key)\u001b[0m\n\u001b[0;32m   2569\u001b[0m                     \u001b[1;32mraise\u001b[0m \u001b[0mInvalidIndexError\u001b[0m\u001b[1;33m(\u001b[0m\u001b[0mkey\u001b[0m\u001b[1;33m)\u001b[0m\u001b[1;33m\u001b[0m\u001b[0m\n\u001b[0;32m   2570\u001b[0m                 \u001b[1;32melse\u001b[0m\u001b[1;33m:\u001b[0m\u001b[1;33m\u001b[0m\u001b[0m\n\u001b[1;32m-> 2571\u001b[1;33m                     \u001b[1;32mraise\u001b[0m \u001b[0me1\u001b[0m\u001b[1;33m\u001b[0m\u001b[0m\n\u001b[0m\u001b[0;32m   2572\u001b[0m             \u001b[1;32mexcept\u001b[0m \u001b[0mException\u001b[0m\u001b[1;33m:\u001b[0m  \u001b[1;31m# pragma: no cover\u001b[0m\u001b[1;33m\u001b[0m\u001b[0m\n\u001b[0;32m   2573\u001b[0m                 \u001b[1;32mraise\u001b[0m \u001b[0me1\u001b[0m\u001b[1;33m\u001b[0m\u001b[0m\n",
      "\u001b[1;32m~\\AppData\\Local\\Continuum\\anaconda3\\envs\\PythonData\\lib\\site-packages\\pandas\\core\\indexes\\base.py\u001b[0m in \u001b[0;36mget_value\u001b[1;34m(self, series, key)\u001b[0m\n\u001b[0;32m   2555\u001b[0m         \u001b[1;32mtry\u001b[0m\u001b[1;33m:\u001b[0m\u001b[1;33m\u001b[0m\u001b[0m\n\u001b[0;32m   2556\u001b[0m             return self._engine.get_value(s, k,\n\u001b[1;32m-> 2557\u001b[1;33m                                           tz=getattr(series.dtype, 'tz', None))\n\u001b[0m\u001b[0;32m   2558\u001b[0m         \u001b[1;32mexcept\u001b[0m \u001b[0mKeyError\u001b[0m \u001b[1;32mas\u001b[0m \u001b[0me1\u001b[0m\u001b[1;33m:\u001b[0m\u001b[1;33m\u001b[0m\u001b[0m\n\u001b[0;32m   2559\u001b[0m             \u001b[1;32mif\u001b[0m \u001b[0mlen\u001b[0m\u001b[1;33m(\u001b[0m\u001b[0mself\u001b[0m\u001b[1;33m)\u001b[0m \u001b[1;33m>\u001b[0m \u001b[1;36m0\u001b[0m \u001b[1;32mand\u001b[0m \u001b[0mself\u001b[0m\u001b[1;33m.\u001b[0m\u001b[0minferred_type\u001b[0m \u001b[1;32min\u001b[0m \u001b[1;33m[\u001b[0m\u001b[1;34m'integer'\u001b[0m\u001b[1;33m,\u001b[0m \u001b[1;34m'boolean'\u001b[0m\u001b[1;33m]\u001b[0m\u001b[1;33m:\u001b[0m\u001b[1;33m\u001b[0m\u001b[0m\n",
      "\u001b[1;32mpandas/_libs/index.pyx\u001b[0m in \u001b[0;36mpandas._libs.index.IndexEngine.get_value\u001b[1;34m()\u001b[0m\n",
      "\u001b[1;32mpandas/_libs/index.pyx\u001b[0m in \u001b[0;36mpandas._libs.index.IndexEngine.get_value\u001b[1;34m()\u001b[0m\n",
      "\u001b[1;32mpandas/_libs/index.pyx\u001b[0m in \u001b[0;36mpandas._libs.index.IndexEngine.get_loc\u001b[1;34m()\u001b[0m\n",
      "\u001b[1;32mpandas/_libs/hashtable_class_helper.pxi\u001b[0m in \u001b[0;36mpandas._libs.hashtable.PyObjectHashTable.get_item\u001b[1;34m()\u001b[0m\n",
      "\u001b[1;32mpandas/_libs/hashtable_class_helper.pxi\u001b[0m in \u001b[0;36mpandas._libs.hashtable.PyObjectHashTable.get_item\u001b[1;34m()\u001b[0m\n",
      "\u001b[1;31mKeyError\u001b[0m: 'Gender'"
     ]
    }
   ],
   "source": [
    "gender_percents = gender_tots[\"Gender\"] / player_count * 100\n",
    "gender_percents\n",
    "\n",
    "# gender_percents = '{0:.0f}%'.format(gender_tots_df[\"Gender\"] / player_count * 100)\n",
    "#\n",
    "# '{0:.0f}%'.format(gender_percents[\"Gender\"])\n",
    "# having trouble putting the darn percent sign on these.  "
   ]
  },
  {
   "cell_type": "code",
   "execution_count": 250,
   "metadata": {},
   "outputs": [
    {
     "name": "stdout",
     "output_type": "stream",
     "text": [
      "**Gender Demographics**\n"
     ]
    },
    {
     "data": {
      "text/html": [
       "<div>\n",
       "<style scoped>\n",
       "    .dataframe tbody tr th:only-of-type {\n",
       "        vertical-align: middle;\n",
       "    }\n",
       "\n",
       "    .dataframe tbody tr th {\n",
       "        vertical-align: top;\n",
       "    }\n",
       "\n",
       "    .dataframe thead th {\n",
       "        text-align: right;\n",
       "    }\n",
       "</style>\n",
       "<table border=\"1\" class=\"dataframe\">\n",
       "  <thead>\n",
       "    <tr style=\"text-align: right;\">\n",
       "      <th></th>\n",
       "      <th>Gender</th>\n",
       "      <th>% of Gender</th>\n",
       "    </tr>\n",
       "  </thead>\n",
       "  <tbody>\n",
       "    <tr>\n",
       "      <th>Male</th>\n",
       "      <td>495</td>\n",
       "      <td>80.88%</td>\n",
       "    </tr>\n",
       "    <tr>\n",
       "      <th>Female</th>\n",
       "      <td>108</td>\n",
       "      <td>17.65%</td>\n",
       "    </tr>\n",
       "    <tr>\n",
       "      <th>Other / Non-Disclosed</th>\n",
       "      <td>9</td>\n",
       "      <td>1.47%</td>\n",
       "    </tr>\n",
       "  </tbody>\n",
       "</table>\n",
       "</div>"
      ],
      "text/plain": [
       "                       Gender % of Gender\n",
       "Male                      495      80.88%\n",
       "Female                    108      17.65%\n",
       "Other / Non-Disclosed       9       1.47%"
      ]
     },
     "execution_count": 250,
     "metadata": {},
     "output_type": "execute_result"
    }
   ],
   "source": [
    "gender_tots_df = pd.DataFrame( player_dat[\"Gender\"].value_counts())\n",
    "gender_tots_df\n",
    "# I'm going to try mapping in the df.  Reference:  \n",
    "# file_df[\"avg_cost\"] = file_df[\"avg_cost\"].map(\"${:.2f}\".format)\n",
    "# file_df[\"population\"] = file_df[\"population\"].map(\"{:,}\".format)\n",
    "# file_df[\"other\"] = file_df[\"other\"].map(\"{:.2f}\".format)\n",
    "# file_df.head()\n",
    "#  adding a columnn\n",
    "gender_tots_df[\"% of Gender\"] = gender_tots_df[\"Gender\"]/ player_count * 100\n",
    "gender_tots_df\n",
    "# YES!\n",
    "# Now do the .map deal\n",
    "gender_tots_df[\"% of Gender\"] = gender_tots_df[\"% of Gender\"].map(\"{:.2f}%\".format)\n",
    "gender_tots_df\n",
    "\n",
    "# jeez...finally.   I should put all of these in dataframes.  \n",
    "print (\"**Gender Demographics**\")\n",
    "gender_tots_df"
   ]
  },
  {
   "cell_type": "code",
   "execution_count": 251,
   "metadata": {},
   "outputs": [
    {
     "data": {
      "text/plain": [
       "Gender\n",
       "Female                   149\n",
       "Male                     697\n",
       "Other / Non-Disclosed     12\n",
       "Name: Item ID, dtype: int64"
      ]
     },
     "execution_count": 251,
     "metadata": {},
     "output_type": "execute_result"
    }
   ],
   "source": [
    "# **Purchasing Analysis (Gender)** \n",
    "# * The below each broken by gender\n",
    "#   * Purchase Count\n",
    "#   * Average Purchase Price\n",
    "#   * Total Purchase Value\n",
    "#   * Normalized Totals\n",
    "\n",
    "# Using GroupBy in order to separate the data into fields according to \"state\" values\n",
    "# grouped_usa_df = usa_ufo_df.groupby(['state'])\n",
    "purch_grp_by_gender = purch_data_df.groupby(['Gender'])\n",
    "\n",
    "# reference functions & methods: \n",
    "# In order to be visualized, a data function must be used...\n",
    "# grouped_usa_df.count().head(10)\n",
    "# Creating a new DataFrame using both duration and count\n",
    "# state_duration = grouped_usa_df[\"duration (seconds)\"].sum()\n",
    "# state_counts = usa_ufo_df[\"state\"].value_counts()\n",
    "# state_summary_table = pd.DataFrame({\"Number of Sightings\":state_counts,\n",
    "#                                    \"Total Visit Time\":state_duration})\n",
    "# state_summary_table.head()\n",
    "\n",
    "# ** Purchase Count **\n",
    "purch_grp_by_gender[\"Item ID\"].count()\n",
    "\n",
    "# redo the above, this time with a single statement.  \n",
    "purch_grp_by_gender = purch_data_df.groupby(['Gender']).count()[\"Item ID\"]\n",
    "purch_grp_by_gender"
   ]
  },
  {
   "cell_type": "code",
   "execution_count": 252,
   "metadata": {},
   "outputs": [
    {
     "data": {
      "text/plain": [
       "Gender\n",
       "Female                   2.847584\n",
       "Male                     2.944448\n",
       "Other / Non-Disclosed    3.155000\n",
       "Name: Price, dtype: float64"
      ]
     },
     "execution_count": 252,
     "metadata": {},
     "output_type": "execute_result"
    }
   ],
   "source": [
    "# ** avg purchase price **\n",
    "avg_price_by_gender = purch_data_df.groupby([\"Gender\"]).mean()\n",
    "# avg_price_by_gender[\"Price\"].head()\n",
    "# That does it.  It'd be nice if it could be done in one statement.  \n",
    "avg_price_by_gender = purch_data_df.groupby([\"Gender\"]).mean()[\"Price\"]\n",
    "avg_price_by_gender\n",
    "# I'm going back with the above approach and redoing all of these like that one^^^"
   ]
  },
  {
   "cell_type": "code",
   "execution_count": 253,
   "metadata": {},
   "outputs": [
    {
     "data": {
      "text/plain": [
       "Gender\n",
       "Female                    424.29\n",
       "Male                     2052.28\n",
       "Other / Non-Disclosed      37.86\n",
       "Name: Price, dtype: float64"
      ]
     },
     "execution_count": 253,
     "metadata": {},
     "output_type": "execute_result"
    }
   ],
   "source": [
    "# * Total Purchase Value\n",
    "tot_purch_val = purch_data_df.groupby([\"Gender\"]).sum()[\"Price\"]\n",
    "tot_purch_val"
   ]
  },
  {
   "cell_type": "code",
   "execution_count": 254,
   "metadata": {},
   "outputs": [
    {
     "data": {
      "text/plain": [
       "Female                   3.928611\n",
       "Male                     4.146020\n",
       "Other / Non-Disclosed    4.206667\n",
       "dtype: float64"
      ]
     },
     "execution_count": 254,
     "metadata": {},
     "output_type": "execute_result"
    }
   ],
   "source": [
    "# wtf is a normalized total.  Assume it is the $$s per person.  \n",
    "norm_total_by_gender = tot_purch_val / gender_tots_df[\"Gender\"]\n",
    "norm_total_by_gender\n",
    "# that looks about right. "
   ]
  },
  {
   "cell_type": "code",
   "execution_count": 255,
   "metadata": {},
   "outputs": [
    {
     "name": "stdout",
     "output_type": "stream",
     "text": [
      "**Purchasing Analysis (Gender)** \n"
     ]
    },
    {
     "data": {
      "text/html": [
       "<div>\n",
       "<style scoped>\n",
       "    .dataframe tbody tr th:only-of-type {\n",
       "        vertical-align: middle;\n",
       "    }\n",
       "\n",
       "    .dataframe tbody tr th {\n",
       "        vertical-align: top;\n",
       "    }\n",
       "\n",
       "    .dataframe thead th {\n",
       "        text-align: right;\n",
       "    }\n",
       "</style>\n",
       "<table border=\"1\" class=\"dataframe\">\n",
       "  <thead>\n",
       "    <tr style=\"text-align: right;\">\n",
       "      <th></th>\n",
       "      <th>Average Purchase Price</th>\n",
       "      <th>Normalized Totals</th>\n",
       "      <th>Purchase Count</th>\n",
       "      <th>Total Purchase Value</th>\n",
       "    </tr>\n",
       "    <tr>\n",
       "      <th>Gender</th>\n",
       "      <th></th>\n",
       "      <th></th>\n",
       "      <th></th>\n",
       "      <th></th>\n",
       "    </tr>\n",
       "  </thead>\n",
       "  <tbody>\n",
       "    <tr>\n",
       "      <th>Female</th>\n",
       "      <td>$2.85</td>\n",
       "      <td>3.93</td>\n",
       "      <td>149</td>\n",
       "      <td>$424.29</td>\n",
       "    </tr>\n",
       "    <tr>\n",
       "      <th>Male</th>\n",
       "      <td>$2.94</td>\n",
       "      <td>4.15</td>\n",
       "      <td>697</td>\n",
       "      <td>$2052.28</td>\n",
       "    </tr>\n",
       "    <tr>\n",
       "      <th>Other / Non-Disclosed</th>\n",
       "      <td>$3.15</td>\n",
       "      <td>4.21</td>\n",
       "      <td>12</td>\n",
       "      <td>$37.86</td>\n",
       "    </tr>\n",
       "  </tbody>\n",
       "</table>\n",
       "</div>"
      ],
      "text/plain": [
       "                      Average Purchase Price Normalized Totals  \\\n",
       "Gender                                                           \n",
       "Female                                 $2.85              3.93   \n",
       "Male                                   $2.94              4.15   \n",
       "Other / Non-Disclosed                  $3.15              4.21   \n",
       "\n",
       "                       Purchase Count Total Purchase Value  \n",
       "Gender                                                      \n",
       "Female                            149              $424.29  \n",
       "Male                              697             $2052.28  \n",
       "Other / Non-Disclosed              12               $37.86  "
      ]
     },
     "execution_count": 255,
     "metadata": {},
     "output_type": "execute_result"
    }
   ],
   "source": [
    "# Build the summary table  from purch_grp_by_gender, avg_price_by_gender, tot_purch_val, and normalized totals.   \n",
    "# take labels from the readme. \n",
    "gender_summ_table = pd.DataFrame({\"Purchase Count\":purch_grp_by_gender, \"Average Purchase Price\": avg_price_by_gender, \n",
    "                                 \"Total Purchase Value\": tot_purch_val, \"Normalized Totals\": norm_total_by_gender})\n",
    "gender_summ_table\n",
    "# Lost my formatting.  \n",
    "# Format reference: \n",
    "# Use Map to format all the columns\n",
    "# file_df[\"avg_cost\"] = file_df[\"avg_cost\"].map(\"${:.2f}\".format)\n",
    "# file_df[\"population\"] = file_df[\"population\"].map(\"{:,}\".format)\n",
    "# file_df[\"other\"] = file_df[\"other\"].map(\"{:.2f}\".format)\n",
    "# file_df.head()\n",
    "\n",
    "gender_summ_table[\"Average Purchase Price\"] = gender_summ_table[\"Average Purchase Price\"].map(\"${:.2f}\".format)\n",
    "gender_summ_table[\"Normalized Totals\"] = gender_summ_table[\"Normalized Totals\"].map(\"{:.2f}\".format)\n",
    "gender_summ_table[\"Total Purchase Value\"] = gender_summ_table[\"Total Purchase Value\"].map(\"${:.2f}\".format)\n",
    "print (\"**Purchasing Analysis (Gender)** \")\n",
    "gender_summ_table"
   ]
  },
  {
   "cell_type": "code",
   "execution_count": 256,
   "metadata": {},
   "outputs": [
    {
     "data": {
      "text/plain": [
       "array([ 7,  8,  9, 10, 11, 12, 13, 14, 15, 16, 17, 18, 19, 20, 21, 22, 23,\n",
       "       24, 25, 26, 27, 28, 29, 30, 31, 32, 33, 34, 35, 36, 37, 38, 39, 40,\n",
       "       42, 43, 45], dtype=int64)"
      ]
     },
     "execution_count": 256,
     "metadata": {},
     "output_type": "execute_result"
    }
   ],
   "source": [
    "# **Age Demographics**\n",
    "# * The below each broken into bins of 4 years (i.e. &lt;10, 10-14, 15-19, etc.) \n",
    "#   * Purchase Count\n",
    "#   * Average Purchase Price\n",
    "#   * Total Purchase Value\n",
    "#   * Normalized Totals\n",
    "player_dat[\"Age\"].sort_values().unique()\n",
    "# ages go from 7 through 45.  "
   ]
  },
  {
   "cell_type": "code",
   "execution_count": 258,
   "metadata": {},
   "outputs": [
    {
     "data": {
      "text/html": [
       "<div>\n",
       "<style scoped>\n",
       "    .dataframe tbody tr th:only-of-type {\n",
       "        vertical-align: middle;\n",
       "    }\n",
       "\n",
       "    .dataframe tbody tr th {\n",
       "        vertical-align: top;\n",
       "    }\n",
       "\n",
       "    .dataframe thead th {\n",
       "        text-align: right;\n",
       "    }\n",
       "</style>\n",
       "<table border=\"1\" class=\"dataframe\">\n",
       "  <thead>\n",
       "    <tr style=\"text-align: right;\">\n",
       "      <th></th>\n",
       "      <th>SN</th>\n",
       "      <th>Gender</th>\n",
       "      <th>Age</th>\n",
       "      <th>Age Group</th>\n",
       "    </tr>\n",
       "  </thead>\n",
       "  <tbody>\n",
       "    <tr>\n",
       "      <th>0</th>\n",
       "      <td>Aelalis34</td>\n",
       "      <td>Male</td>\n",
       "      <td>38</td>\n",
       "      <td>35-39</td>\n",
       "    </tr>\n",
       "    <tr>\n",
       "      <th>1</th>\n",
       "      <td>Eolo46</td>\n",
       "      <td>Male</td>\n",
       "      <td>21</td>\n",
       "      <td>20-24</td>\n",
       "    </tr>\n",
       "    <tr>\n",
       "      <th>2</th>\n",
       "      <td>Assastnya25</td>\n",
       "      <td>Male</td>\n",
       "      <td>34</td>\n",
       "      <td>30-34</td>\n",
       "    </tr>\n",
       "    <tr>\n",
       "      <th>3</th>\n",
       "      <td>Pheusrical25</td>\n",
       "      <td>Male</td>\n",
       "      <td>21</td>\n",
       "      <td>20-24</td>\n",
       "    </tr>\n",
       "    <tr>\n",
       "      <th>4</th>\n",
       "      <td>Aela59</td>\n",
       "      <td>Male</td>\n",
       "      <td>23</td>\n",
       "      <td>20-24</td>\n",
       "    </tr>\n",
       "  </tbody>\n",
       "</table>\n",
       "</div>"
      ],
      "text/plain": [
       "             SN Gender  Age Age Group\n",
       "0     Aelalis34   Male   38     35-39\n",
       "1        Eolo46   Male   21     20-24\n",
       "2   Assastnya25   Male   34     30-34\n",
       "3  Pheusrical25   Male   21     20-24\n",
       "4        Aela59   Male   23     20-24"
      ]
     },
     "execution_count": 258,
     "metadata": {},
     "output_type": "execute_result"
    }
   ],
   "source": [
    "## Create the bins in which Data will be held\n",
    "## Bins are 0 to 25, 25 to 50, 50 to 75, 75 to 100\n",
    "# bins = [0, 25, 50, 75, 100]\n",
    "bins = [0,9.9999, 14.9999, 19.9999, 24.9999, 29.9999, 34.9999, 39.999, 999 ]\n",
    "## Create the names for the four bins\n",
    "# group_names = ['Low', 'Okay', 'Good', 'Great']\n",
    "group_names = [\"<10\", \"10-14\", \"15-19\", \"20-24\", \"25-29\", \"30-34\", \"35-39\", \"40+\"]\n",
    "\n",
    "## Cut postTestScore and place the scores into bins\n",
    "# pd.cut(regiment_df[\"Test Score\"], bins, labels=group_names)\n",
    "# regiment_df[\"Test Score Summary\"] = pd.cut(regiment_df[\"Test Score\"], bins, labels=group_names)\n",
    "# regiment_df\n",
    "player_dat[\"Age Group\"] = pd.cut(player_dat[\"Age\"], bins, labels=group_names)\n",
    "player_dat.head()"
   ]
  },
  {
   "cell_type": "code",
   "execution_count": 264,
   "metadata": {},
   "outputs": [
    {
     "data": {
      "text/html": [
       "<div>\n",
       "<style scoped>\n",
       "    .dataframe tbody tr th:only-of-type {\n",
       "        vertical-align: middle;\n",
       "    }\n",
       "\n",
       "    .dataframe tbody tr th {\n",
       "        vertical-align: top;\n",
       "    }\n",
       "\n",
       "    .dataframe thead th {\n",
       "        text-align: right;\n",
       "    }\n",
       "</style>\n",
       "<table border=\"1\" class=\"dataframe\">\n",
       "  <thead>\n",
       "    <tr style=\"text-align: right;\">\n",
       "      <th></th>\n",
       "      <th>Age Group</th>\n",
       "    </tr>\n",
       "  </thead>\n",
       "  <tbody>\n",
       "    <tr>\n",
       "      <th>20-24</th>\n",
       "      <td>272</td>\n",
       "    </tr>\n",
       "    <tr>\n",
       "      <th>15-19</th>\n",
       "      <td>107</td>\n",
       "    </tr>\n",
       "    <tr>\n",
       "      <th>25-29</th>\n",
       "      <td>93</td>\n",
       "    </tr>\n",
       "    <tr>\n",
       "      <th>30-34</th>\n",
       "      <td>51</td>\n",
       "    </tr>\n",
       "    <tr>\n",
       "      <th>35-39</th>\n",
       "      <td>32</td>\n",
       "    </tr>\n",
       "    <tr>\n",
       "      <th>10-14</th>\n",
       "      <td>25</td>\n",
       "    </tr>\n",
       "    <tr>\n",
       "      <th>&lt;10</th>\n",
       "      <td>21</td>\n",
       "    </tr>\n",
       "    <tr>\n",
       "      <th>40+</th>\n",
       "      <td>11</td>\n",
       "    </tr>\n",
       "  </tbody>\n",
       "</table>\n",
       "</div>"
      ],
      "text/plain": [
       "       Age Group\n",
       "20-24        272\n",
       "15-19        107\n",
       "25-29         93\n",
       "30-34         51\n",
       "35-39         32\n",
       "10-14         25\n",
       "<10           21\n",
       "40+           11"
      ]
     },
     "execution_count": 264,
     "metadata": {},
     "output_type": "execute_result"
    }
   ],
   "source": [
    "# # Creating a group based off of the bins\n",
    "# regiment_groups = regiment_df.groupby(\"Test Score Summary\")\n",
    "# regiment_groups.max()\n",
    "\n",
    "# just like I did gender analysis above.  \n",
    "# refs: \n",
    "# gender_tots_df = pd.DataFrame( player_dat[\"Gender\"].value_counts())\n",
    "# gender_tots_df\n",
    "# # I'm going to try mapping in the df.  Reference:  \n",
    "# # file_df[\"avg_cost\"] = file_df[\"avg_cost\"].map(\"${:.2f}\".format)\n",
    "# # file_df[\"population\"] = file_df[\"population\"].map(\"{:,}\".format)\n",
    "# # file_df[\"other\"] = file_df[\"other\"].map(\"{:.2f}\".format)\n",
    "# # file_df.head()\n",
    "# #  adding a columnn\n",
    "# gender_tots_df[\"% of Gender\"] = gender_tots_df[\"Gender\"]/ player_count * 100\n",
    "# gender_tots_df\n",
    "# # YES!\n",
    "# # Now do the .map deal\n",
    "# gender_tots_df[\"% of Gender\"] = gender_tots_df[\"% of Gender\"].map(\"{:.2f}%\".format)\n",
    "# gender_tots_df\n",
    "\n",
    "age_tots_df = pd.DataFrame(player_dat[\"Age Group\"].value_counts())\n",
    "age_tots_df\n",
    "age_tots_df[\"Avg Purch Price\"] = age_tots_df / player_count * 100\n",
    "age_tots_df"
   ]
  },
  {
   "cell_type": "code",
   "execution_count": null,
   "metadata": {},
   "outputs": [],
   "source": []
  }
 ],
 "metadata": {
  "kernelspec": {
   "display_name": "Python [conda env:PythonData]",
   "language": "python",
   "name": "conda-env-PythonData-py"
  },
  "language_info": {
   "codemirror_mode": {
    "name": "ipython",
    "version": 3
   },
   "file_extension": ".py",
   "mimetype": "text/x-python",
   "name": "python",
   "nbconvert_exporter": "python",
   "pygments_lexer": "ipython3",
   "version": "3.6.1"
  }
 },
 "nbformat": 4,
 "nbformat_minor": 2
}
